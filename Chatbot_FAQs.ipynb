{
  "nbformat": 4,
  "nbformat_minor": 0,
  "metadata": {
    "colab": {
      "provenance": [],
      "authorship_tag": "ABX9TyPEGmiXjZc/m0iykI5H/Vxk"
    },
    "kernelspec": {
      "name": "python3",
      "display_name": "Python 3"
    },
    "language_info": {
      "name": "python"
    }
  },
  "cells": [
    {
      "cell_type": "code",
      "source": [
        "import nltk\n",
        "nltk.download('punkt')\n",
        "nltk.download('stopwords')\n",
        "from nltk.tokenize import word_tokenize\n",
        "from nltk.corpus import stopwords\n",
        "from sklearn.feature_extraction.text import TfidfVectorizer\n",
        "from sklearn.metrics.pairwise import cosine_similarity\n",
        "import spacy"
      ],
      "metadata": {
        "colab": {
          "base_uri": "https://localhost:8080/"
        },
        "id": "zmpRj7pA2hBv",
        "outputId": "5833cd28-2524-41e5-f1e4-4a31e53fde81"
      },
      "execution_count": 10,
      "outputs": [
        {
          "output_type": "stream",
          "name": "stderr",
          "text": [
            "[nltk_data] Downloading package punkt to /root/nltk_data...\n",
            "[nltk_data]   Package punkt is already up-to-date!\n",
            "[nltk_data] Downloading package stopwords to /root/nltk_data...\n",
            "[nltk_data]   Unzipping corpora/stopwords.zip.\n"
          ]
        }
      ]
    },
    {
      "cell_type": "code",
      "source": [
        "nlp = spacy.load(\"en_core_web_sm\")"
      ],
      "metadata": {
        "id": "zMBfuy2N2tyO"
      },
      "execution_count": 11,
      "outputs": []
    },
    {
      "cell_type": "code",
      "source": [
        "faq_data = {\n",
        "    \"What is your return policy?\": \"You can return any item within 30 days of purchase for a full refund.\",\n",
        "    \"How can I track my order?\": \"You can track your order using the tracking number provided in your confirmation email.\",\n",
        "    \"What are your business hours?\": \"Our business hours are Monday to Friday, 9 AM to 5 PM.\",\n",
        "    \"How do I contact customer support?\": \"You can contact customer support via email at support@example.com or call us at 1-800-123-4567.\"\n",
        "}\n",
        "\n",
        "questions = list(faq_data.keys())\n",
        "answers = list(faq_data.values())"
      ],
      "metadata": {
        "id": "PpSM3faK2wOV"
      },
      "execution_count": 12,
      "outputs": []
    },
    {
      "cell_type": "code",
      "source": [
        "def preprocess_text(text):\n",
        "    tokens = word_tokenize(text.lower())\n",
        "    stop_words = set(stopwords.words('english'))\n",
        "    tokens = [word for word in tokens if word.isalnum() and word not in stop_words]\n",
        "    return ' '.join(tokens)\n",
        "\n",
        "processed_questions = [preprocess_text(question) for question in questions]"
      ],
      "metadata": {
        "id": "Nw5gPK6i3D39"
      },
      "execution_count": 13,
      "outputs": []
    },
    {
      "cell_type": "code",
      "source": [
        "vectorizer = TfidfVectorizer()\n",
        "tfidf_matrix = vectorizer.fit_transform(processed_questions)"
      ],
      "metadata": {
        "id": "pcxdVXks3fg7"
      },
      "execution_count": 14,
      "outputs": []
    },
    {
      "cell_type": "code",
      "source": [
        "def get_answer(user_query):\n",
        "    processed_query = preprocess_text(user_query)\n",
        "    query_vector = vectorizer.transform([processed_query])\n",
        "    similarities = cosine_similarity(query_vector, tfidf_matrix)\n",
        "    most_similar_index = similarities.argmax()\n",
        "    return answers[most_similar_index]\n",
        "def chat():\n",
        "    print(\"Welcome to the FAQ chatbot! Type 'exit' to end the conversation.\")\n",
        "    while True:\n",
        "        user_query = input(\"You: \")\n",
        "        if user_query.lower() == 'exit':\n",
        "            print(\"Goodbye!\")\n",
        "            break\n",
        "        response = get_answer(user_query)\n",
        "        print(f\"Chatbot: {response}\")\n",
        "chat()"
      ],
      "metadata": {
        "colab": {
          "base_uri": "https://localhost:8080/"
        },
        "id": "t_it2T_S3iU_",
        "outputId": "e251037e-9567-4fda-e760-2fbb92f7a00b"
      },
      "execution_count": 17,
      "outputs": [
        {
          "output_type": "stream",
          "name": "stdout",
          "text": [
            "Welcome to the FAQ chatbot! Type 'exit' to end the conversation.\n",
            "You: what are your business hours\n",
            "Chatbot: Our business hours are Monday to Friday, 9 AM to 5 PM.\n",
            "You: exit\n",
            "Goodbye!\n"
          ]
        }
      ]
    }
  ]
}